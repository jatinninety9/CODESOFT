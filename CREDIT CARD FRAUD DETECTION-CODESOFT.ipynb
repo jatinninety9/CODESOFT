{
 "cells": [
  {
   "cell_type": "markdown",
   "id": "f51cea74",
   "metadata": {
    "papermill": {
     "duration": 0.006061,
     "end_time": "2025-06-21T11:43:14.683439",
     "exception": false,
     "start_time": "2025-06-21T11:43:14.677378",
     "status": "completed"
    },
    "tags": []
   },
   "source": [
    "# IMPORTING ALL DEPENDENCIES "
   ]
  },
  {
   "cell_type": "code",
   "execution_count": 1,
   "id": "46b57b5e",
   "metadata": {
    "_cell_guid": "b1076dfc-b9ad-4769-8c92-a6c4dae69d19",
    "_uuid": "8f2839f25d086af736a60e9eeb907d3b93b6e0e5",
    "execution": {
     "iopub.execute_input": "2025-06-21T11:43:14.695701Z",
     "iopub.status.busy": "2025-06-21T11:43:14.695351Z",
     "iopub.status.idle": "2025-06-21T11:43:19.207455Z",
     "shell.execute_reply": "2025-06-21T11:43:19.206311Z"
    },
    "papermill": {
     "duration": 4.520306,
     "end_time": "2025-06-21T11:43:19.209202",
     "exception": false,
     "start_time": "2025-06-21T11:43:14.688896",
     "status": "completed"
    },
    "tags": []
   },
   "outputs": [
    {
     "name": "stdout",
     "output_type": "stream",
     "text": [
      "/kaggle/input/creditcardfraud/creditcard.csv\n"
     ]
    }
   ],
   "source": [
    "import numpy as np \n",
    "import pandas as pd\n",
    "from sklearn.preprocessing import StandardScaler\n",
    "from sklearn.model_selection import train_test_split\n",
    "from sklearn.linear_model import LogisticRegression as LR\n",
    "from sklearn.metrics import accuracy_score,precision_score, recall_score, f1_score, confusion_matrix, ConfusionMatrixDisplay\n",
    "import matplotlib.pyplot as plt\n",
    "import seaborn as sns\n",
    "import os\n",
    "for dirname, _, filenames in os.walk('/kaggle/input'):\n",
    "    for filename in filenames:\n",
    "        print(os.path.join(dirname, filename))"
   ]
  },
  {
   "cell_type": "markdown",
   "id": "1ef8bdc7",
   "metadata": {
    "papermill": {
     "duration": 0.00518,
     "end_time": "2025-06-21T11:43:19.219955",
     "exception": false,
     "start_time": "2025-06-21T11:43:19.214775",
     "status": "completed"
    },
    "tags": []
   },
   "source": [
    "# EXPLORATORY DATA ANALYSIS "
   ]
  },
  {
   "cell_type": "code",
   "execution_count": 2,
   "id": "103f9911",
   "metadata": {
    "execution": {
     "iopub.execute_input": "2025-06-21T11:43:19.231837Z",
     "iopub.status.busy": "2025-06-21T11:43:19.231325Z",
     "iopub.status.idle": "2025-06-21T11:43:23.325439Z",
     "shell.execute_reply": "2025-06-21T11:43:23.324403Z"
    },
    "papermill": {
     "duration": 4.102099,
     "end_time": "2025-06-21T11:43:23.327162",
     "exception": false,
     "start_time": "2025-06-21T11:43:19.225063",
     "status": "completed"
    },
    "tags": []
   },
   "outputs": [],
   "source": [
    "df = pd.read_csv('/kaggle/input/creditcardfraud/creditcard.csv')"
   ]
  },
  {
   "cell_type": "code",
   "execution_count": 3,
   "id": "617a990d",
   "metadata": {
    "execution": {
     "iopub.execute_input": "2025-06-21T11:43:23.339847Z",
     "iopub.status.busy": "2025-06-21T11:43:23.339473Z",
     "iopub.status.idle": "2025-06-21T11:43:23.378876Z",
     "shell.execute_reply": "2025-06-21T11:43:23.377980Z"
    },
    "papermill": {
     "duration": 0.047586,
     "end_time": "2025-06-21T11:43:23.380459",
     "exception": false,
     "start_time": "2025-06-21T11:43:23.332873",
     "status": "completed"
    },
    "tags": []
   },
   "outputs": [
    {
     "data": {
      "text/html": [
       "<div>\n",
       "<style scoped>\n",
       "    .dataframe tbody tr th:only-of-type {\n",
       "        vertical-align: middle;\n",
       "    }\n",
       "\n",
       "    .dataframe tbody tr th {\n",
       "        vertical-align: top;\n",
       "    }\n",
       "\n",
       "    .dataframe thead th {\n",
       "        text-align: right;\n",
       "    }\n",
       "</style>\n",
       "<table border=\"1\" class=\"dataframe\">\n",
       "  <thead>\n",
       "    <tr style=\"text-align: right;\">\n",
       "      <th></th>\n",
       "      <th>Time</th>\n",
       "      <th>V1</th>\n",
       "      <th>V2</th>\n",
       "      <th>V3</th>\n",
       "      <th>V4</th>\n",
       "      <th>V5</th>\n",
       "      <th>V6</th>\n",
       "      <th>V7</th>\n",
       "      <th>V8</th>\n",
       "      <th>V9</th>\n",
       "      <th>...</th>\n",
       "      <th>V21</th>\n",
       "      <th>V22</th>\n",
       "      <th>V23</th>\n",
       "      <th>V24</th>\n",
       "      <th>V25</th>\n",
       "      <th>V26</th>\n",
       "      <th>V27</th>\n",
       "      <th>V28</th>\n",
       "      <th>Amount</th>\n",
       "      <th>Class</th>\n",
       "    </tr>\n",
       "  </thead>\n",
       "  <tbody>\n",
       "    <tr>\n",
       "      <th>0</th>\n",
       "      <td>0.0</td>\n",
       "      <td>-1.359807</td>\n",
       "      <td>-0.072781</td>\n",
       "      <td>2.536347</td>\n",
       "      <td>1.378155</td>\n",
       "      <td>-0.338321</td>\n",
       "      <td>0.462388</td>\n",
       "      <td>0.239599</td>\n",
       "      <td>0.098698</td>\n",
       "      <td>0.363787</td>\n",
       "      <td>...</td>\n",
       "      <td>-0.018307</td>\n",
       "      <td>0.277838</td>\n",
       "      <td>-0.110474</td>\n",
       "      <td>0.066928</td>\n",
       "      <td>0.128539</td>\n",
       "      <td>-0.189115</td>\n",
       "      <td>0.133558</td>\n",
       "      <td>-0.021053</td>\n",
       "      <td>149.62</td>\n",
       "      <td>0</td>\n",
       "    </tr>\n",
       "    <tr>\n",
       "      <th>1</th>\n",
       "      <td>0.0</td>\n",
       "      <td>1.191857</td>\n",
       "      <td>0.266151</td>\n",
       "      <td>0.166480</td>\n",
       "      <td>0.448154</td>\n",
       "      <td>0.060018</td>\n",
       "      <td>-0.082361</td>\n",
       "      <td>-0.078803</td>\n",
       "      <td>0.085102</td>\n",
       "      <td>-0.255425</td>\n",
       "      <td>...</td>\n",
       "      <td>-0.225775</td>\n",
       "      <td>-0.638672</td>\n",
       "      <td>0.101288</td>\n",
       "      <td>-0.339846</td>\n",
       "      <td>0.167170</td>\n",
       "      <td>0.125895</td>\n",
       "      <td>-0.008983</td>\n",
       "      <td>0.014724</td>\n",
       "      <td>2.69</td>\n",
       "      <td>0</td>\n",
       "    </tr>\n",
       "    <tr>\n",
       "      <th>2</th>\n",
       "      <td>1.0</td>\n",
       "      <td>-1.358354</td>\n",
       "      <td>-1.340163</td>\n",
       "      <td>1.773209</td>\n",
       "      <td>0.379780</td>\n",
       "      <td>-0.503198</td>\n",
       "      <td>1.800499</td>\n",
       "      <td>0.791461</td>\n",
       "      <td>0.247676</td>\n",
       "      <td>-1.514654</td>\n",
       "      <td>...</td>\n",
       "      <td>0.247998</td>\n",
       "      <td>0.771679</td>\n",
       "      <td>0.909412</td>\n",
       "      <td>-0.689281</td>\n",
       "      <td>-0.327642</td>\n",
       "      <td>-0.139097</td>\n",
       "      <td>-0.055353</td>\n",
       "      <td>-0.059752</td>\n",
       "      <td>378.66</td>\n",
       "      <td>0</td>\n",
       "    </tr>\n",
       "    <tr>\n",
       "      <th>3</th>\n",
       "      <td>1.0</td>\n",
       "      <td>-0.966272</td>\n",
       "      <td>-0.185226</td>\n",
       "      <td>1.792993</td>\n",
       "      <td>-0.863291</td>\n",
       "      <td>-0.010309</td>\n",
       "      <td>1.247203</td>\n",
       "      <td>0.237609</td>\n",
       "      <td>0.377436</td>\n",
       "      <td>-1.387024</td>\n",
       "      <td>...</td>\n",
       "      <td>-0.108300</td>\n",
       "      <td>0.005274</td>\n",
       "      <td>-0.190321</td>\n",
       "      <td>-1.175575</td>\n",
       "      <td>0.647376</td>\n",
       "      <td>-0.221929</td>\n",
       "      <td>0.062723</td>\n",
       "      <td>0.061458</td>\n",
       "      <td>123.50</td>\n",
       "      <td>0</td>\n",
       "    </tr>\n",
       "    <tr>\n",
       "      <th>4</th>\n",
       "      <td>2.0</td>\n",
       "      <td>-1.158233</td>\n",
       "      <td>0.877737</td>\n",
       "      <td>1.548718</td>\n",
       "      <td>0.403034</td>\n",
       "      <td>-0.407193</td>\n",
       "      <td>0.095921</td>\n",
       "      <td>0.592941</td>\n",
       "      <td>-0.270533</td>\n",
       "      <td>0.817739</td>\n",
       "      <td>...</td>\n",
       "      <td>-0.009431</td>\n",
       "      <td>0.798278</td>\n",
       "      <td>-0.137458</td>\n",
       "      <td>0.141267</td>\n",
       "      <td>-0.206010</td>\n",
       "      <td>0.502292</td>\n",
       "      <td>0.219422</td>\n",
       "      <td>0.215153</td>\n",
       "      <td>69.99</td>\n",
       "      <td>0</td>\n",
       "    </tr>\n",
       "  </tbody>\n",
       "</table>\n",
       "<p>5 rows × 31 columns</p>\n",
       "</div>"
      ],
      "text/plain": [
       "   Time        V1        V2        V3        V4        V5        V6        V7  \\\n",
       "0   0.0 -1.359807 -0.072781  2.536347  1.378155 -0.338321  0.462388  0.239599   \n",
       "1   0.0  1.191857  0.266151  0.166480  0.448154  0.060018 -0.082361 -0.078803   \n",
       "2   1.0 -1.358354 -1.340163  1.773209  0.379780 -0.503198  1.800499  0.791461   \n",
       "3   1.0 -0.966272 -0.185226  1.792993 -0.863291 -0.010309  1.247203  0.237609   \n",
       "4   2.0 -1.158233  0.877737  1.548718  0.403034 -0.407193  0.095921  0.592941   \n",
       "\n",
       "         V8        V9  ...       V21       V22       V23       V24       V25  \\\n",
       "0  0.098698  0.363787  ... -0.018307  0.277838 -0.110474  0.066928  0.128539   \n",
       "1  0.085102 -0.255425  ... -0.225775 -0.638672  0.101288 -0.339846  0.167170   \n",
       "2  0.247676 -1.514654  ...  0.247998  0.771679  0.909412 -0.689281 -0.327642   \n",
       "3  0.377436 -1.387024  ... -0.108300  0.005274 -0.190321 -1.175575  0.647376   \n",
       "4 -0.270533  0.817739  ... -0.009431  0.798278 -0.137458  0.141267 -0.206010   \n",
       "\n",
       "        V26       V27       V28  Amount  Class  \n",
       "0 -0.189115  0.133558 -0.021053  149.62      0  \n",
       "1  0.125895 -0.008983  0.014724    2.69      0  \n",
       "2 -0.139097 -0.055353 -0.059752  378.66      0  \n",
       "3 -0.221929  0.062723  0.061458  123.50      0  \n",
       "4  0.502292  0.219422  0.215153   69.99      0  \n",
       "\n",
       "[5 rows x 31 columns]"
      ]
     },
     "execution_count": 3,
     "metadata": {},
     "output_type": "execute_result"
    }
   ],
   "source": [
    "df.head()"
   ]
  },
  {
   "cell_type": "code",
   "execution_count": 4,
   "id": "55c939b2",
   "metadata": {
    "execution": {
     "iopub.execute_input": "2025-06-21T11:43:23.393098Z",
     "iopub.status.busy": "2025-06-21T11:43:23.392728Z",
     "iopub.status.idle": "2025-06-21T11:43:23.449597Z",
     "shell.execute_reply": "2025-06-21T11:43:23.448641Z"
    },
    "papermill": {
     "duration": 0.065173,
     "end_time": "2025-06-21T11:43:23.451427",
     "exception": false,
     "start_time": "2025-06-21T11:43:23.386254",
     "status": "completed"
    },
    "tags": []
   },
   "outputs": [
    {
     "name": "stdout",
     "output_type": "stream",
     "text": [
      "<class 'pandas.core.frame.DataFrame'>\n",
      "RangeIndex: 284807 entries, 0 to 284806\n",
      "Data columns (total 31 columns):\n",
      " #   Column  Non-Null Count   Dtype  \n",
      "---  ------  --------------   -----  \n",
      " 0   Time    284807 non-null  float64\n",
      " 1   V1      284807 non-null  float64\n",
      " 2   V2      284807 non-null  float64\n",
      " 3   V3      284807 non-null  float64\n",
      " 4   V4      284807 non-null  float64\n",
      " 5   V5      284807 non-null  float64\n",
      " 6   V6      284807 non-null  float64\n",
      " 7   V7      284807 non-null  float64\n",
      " 8   V8      284807 non-null  float64\n",
      " 9   V9      284807 non-null  float64\n",
      " 10  V10     284807 non-null  float64\n",
      " 11  V11     284807 non-null  float64\n",
      " 12  V12     284807 non-null  float64\n",
      " 13  V13     284807 non-null  float64\n",
      " 14  V14     284807 non-null  float64\n",
      " 15  V15     284807 non-null  float64\n",
      " 16  V16     284807 non-null  float64\n",
      " 17  V17     284807 non-null  float64\n",
      " 18  V18     284807 non-null  float64\n",
      " 19  V19     284807 non-null  float64\n",
      " 20  V20     284807 non-null  float64\n",
      " 21  V21     284807 non-null  float64\n",
      " 22  V22     284807 non-null  float64\n",
      " 23  V23     284807 non-null  float64\n",
      " 24  V24     284807 non-null  float64\n",
      " 25  V25     284807 non-null  float64\n",
      " 26  V26     284807 non-null  float64\n",
      " 27  V27     284807 non-null  float64\n",
      " 28  V28     284807 non-null  float64\n",
      " 29  Amount  284807 non-null  float64\n",
      " 30  Class   284807 non-null  int64  \n",
      "dtypes: float64(30), int64(1)\n",
      "memory usage: 67.4 MB\n"
     ]
    }
   ],
   "source": [
    "df.info()"
   ]
  },
  {
   "cell_type": "code",
   "execution_count": 5,
   "id": "6472fba3",
   "metadata": {
    "execution": {
     "iopub.execute_input": "2025-06-21T11:43:23.464091Z",
     "iopub.status.busy": "2025-06-21T11:43:23.463748Z",
     "iopub.status.idle": "2025-06-21T11:43:23.501444Z",
     "shell.execute_reply": "2025-06-21T11:43:23.500416Z"
    },
    "papermill": {
     "duration": 0.046033,
     "end_time": "2025-06-21T11:43:23.503216",
     "exception": false,
     "start_time": "2025-06-21T11:43:23.457183",
     "status": "completed"
    },
    "tags": []
   },
   "outputs": [
    {
     "data": {
      "text/plain": [
       "Time      0\n",
       "V1        0\n",
       "V2        0\n",
       "V3        0\n",
       "V4        0\n",
       "V5        0\n",
       "V6        0\n",
       "V7        0\n",
       "V8        0\n",
       "V9        0\n",
       "V10       0\n",
       "V11       0\n",
       "V12       0\n",
       "V13       0\n",
       "V14       0\n",
       "V15       0\n",
       "V16       0\n",
       "V17       0\n",
       "V18       0\n",
       "V19       0\n",
       "V20       0\n",
       "V21       0\n",
       "V22       0\n",
       "V23       0\n",
       "V24       0\n",
       "V25       0\n",
       "V26       0\n",
       "V27       0\n",
       "V28       0\n",
       "Amount    0\n",
       "Class     0\n",
       "dtype: int64"
      ]
     },
     "execution_count": 5,
     "metadata": {},
     "output_type": "execute_result"
    }
   ],
   "source": [
    "#Check for missing values in each column\n",
    "df.isnull().sum()"
   ]
  },
  {
   "cell_type": "code",
   "execution_count": 6,
   "id": "cf5de947",
   "metadata": {
    "execution": {
     "iopub.execute_input": "2025-06-21T11:43:23.516208Z",
     "iopub.status.busy": "2025-06-21T11:43:23.515919Z",
     "iopub.status.idle": "2025-06-21T11:43:23.526786Z",
     "shell.execute_reply": "2025-06-21T11:43:23.525954Z"
    },
    "papermill": {
     "duration": 0.018975,
     "end_time": "2025-06-21T11:43:23.528168",
     "exception": false,
     "start_time": "2025-06-21T11:43:23.509193",
     "status": "completed"
    },
    "tags": []
   },
   "outputs": [
    {
     "data": {
      "text/plain": [
       "Class\n",
       "0    284315\n",
       "1       492\n",
       "Name: count, dtype: int64"
      ]
     },
     "execution_count": 6,
     "metadata": {},
     "output_type": "execute_result"
    }
   ],
   "source": [
    "#Distribution of Legit Trxn and Fraud Trxn\n",
    "df['Class'].value_counts()"
   ]
  },
  {
   "cell_type": "markdown",
   "id": "d7929568",
   "metadata": {
    "papermill": {
     "duration": 0.005561,
     "end_time": "2025-06-21T11:43:23.539768",
     "exception": false,
     "start_time": "2025-06-21T11:43:23.534207",
     "status": "completed"
    },
    "tags": []
   },
   "source": [
    "0---> Legit Transaction\n",
    "\n",
    "1---> Fraud Transaction\n",
    "\n",
    "This is a highly unbalanced dataset. It contains almost 99.8% of Legit/Authentic Transactions and only 0.172% of Fraud Transactions."
   ]
  },
  {
   "cell_type": "markdown",
   "id": "4f6859b1",
   "metadata": {
    "papermill": {
     "duration": 0.005339,
     "end_time": "2025-06-21T11:43:23.550968",
     "exception": false,
     "start_time": "2025-06-21T11:43:23.545629",
     "status": "completed"
    },
    "tags": []
   },
   "source": [
    "# SEPARATING VARIABLES FOR ANALYSIS"
   ]
  },
  {
   "cell_type": "code",
   "execution_count": 7,
   "id": "fb6db9c7",
   "metadata": {
    "execution": {
     "iopub.execute_input": "2025-06-21T11:43:23.564396Z",
     "iopub.status.busy": "2025-06-21T11:43:23.564072Z",
     "iopub.status.idle": "2025-06-21T11:43:23.618740Z",
     "shell.execute_reply": "2025-06-21T11:43:23.617539Z"
    },
    "papermill": {
     "duration": 0.064021,
     "end_time": "2025-06-21T11:43:23.620736",
     "exception": false,
     "start_time": "2025-06-21T11:43:23.556715",
     "status": "completed"
    },
    "tags": []
   },
   "outputs": [],
   "source": [
    "fraud = df[df.Class == 1]\n",
    "legit = df[df.Class == 0]"
   ]
  },
  {
   "cell_type": "code",
   "execution_count": 8,
   "id": "9a1301e1",
   "metadata": {
    "execution": {
     "iopub.execute_input": "2025-06-21T11:43:23.633985Z",
     "iopub.status.busy": "2025-06-21T11:43:23.633604Z",
     "iopub.status.idle": "2025-06-21T11:43:23.660832Z",
     "shell.execute_reply": "2025-06-21T11:43:23.659870Z"
    },
    "papermill": {
     "duration": 0.035692,
     "end_time": "2025-06-21T11:43:23.662515",
     "exception": false,
     "start_time": "2025-06-21T11:43:23.626823",
     "status": "completed"
    },
    "tags": []
   },
   "outputs": [
    {
     "data": {
      "text/plain": [
       "count    284315.000000\n",
       "mean         88.291022\n",
       "std         250.105092\n",
       "min           0.000000\n",
       "25%           5.650000\n",
       "50%          22.000000\n",
       "75%          77.050000\n",
       "max       25691.160000\n",
       "Name: Amount, dtype: float64"
      ]
     },
     "execution_count": 8,
     "metadata": {},
     "output_type": "execute_result"
    }
   ],
   "source": [
    "legit.Amount.describe()\n"
   ]
  },
  {
   "cell_type": "code",
   "execution_count": 9,
   "id": "dbc035a9",
   "metadata": {
    "execution": {
     "iopub.execute_input": "2025-06-21T11:43:23.675892Z",
     "iopub.status.busy": "2025-06-21T11:43:23.675553Z",
     "iopub.status.idle": "2025-06-21T11:43:23.685438Z",
     "shell.execute_reply": "2025-06-21T11:43:23.684223Z"
    },
    "papermill": {
     "duration": 0.018241,
     "end_time": "2025-06-21T11:43:23.687026",
     "exception": false,
     "start_time": "2025-06-21T11:43:23.668785",
     "status": "completed"
    },
    "tags": []
   },
   "outputs": [
    {
     "data": {
      "text/plain": [
       "count     492.000000\n",
       "mean      122.211321\n",
       "std       256.683288\n",
       "min         0.000000\n",
       "25%         1.000000\n",
       "50%         9.250000\n",
       "75%       105.890000\n",
       "max      2125.870000\n",
       "Name: Amount, dtype: float64"
      ]
     },
     "execution_count": 9,
     "metadata": {},
     "output_type": "execute_result"
    }
   ],
   "source": [
    "fraud.Amount.describe()"
   ]
  },
  {
   "cell_type": "code",
   "execution_count": 10,
   "id": "8d58349d",
   "metadata": {
    "execution": {
     "iopub.execute_input": "2025-06-21T11:43:23.700677Z",
     "iopub.status.busy": "2025-06-21T11:43:23.700360Z",
     "iopub.status.idle": "2025-06-21T11:43:23.842816Z",
     "shell.execute_reply": "2025-06-21T11:43:23.841751Z"
    },
    "papermill": {
     "duration": 0.151809,
     "end_time": "2025-06-21T11:43:23.844932",
     "exception": false,
     "start_time": "2025-06-21T11:43:23.693123",
     "status": "completed"
    },
    "tags": []
   },
   "outputs": [
    {
     "data": {
      "text/html": [
       "<div>\n",
       "<style scoped>\n",
       "    .dataframe tbody tr th:only-of-type {\n",
       "        vertical-align: middle;\n",
       "    }\n",
       "\n",
       "    .dataframe tbody tr th {\n",
       "        vertical-align: top;\n",
       "    }\n",
       "\n",
       "    .dataframe thead th {\n",
       "        text-align: right;\n",
       "    }\n",
       "</style>\n",
       "<table border=\"1\" class=\"dataframe\">\n",
       "  <thead>\n",
       "    <tr style=\"text-align: right;\">\n",
       "      <th></th>\n",
       "      <th>Time</th>\n",
       "      <th>V1</th>\n",
       "      <th>V2</th>\n",
       "      <th>V3</th>\n",
       "      <th>V4</th>\n",
       "      <th>V5</th>\n",
       "      <th>V6</th>\n",
       "      <th>V7</th>\n",
       "      <th>V8</th>\n",
       "      <th>V9</th>\n",
       "      <th>...</th>\n",
       "      <th>V20</th>\n",
       "      <th>V21</th>\n",
       "      <th>V22</th>\n",
       "      <th>V23</th>\n",
       "      <th>V24</th>\n",
       "      <th>V25</th>\n",
       "      <th>V26</th>\n",
       "      <th>V27</th>\n",
       "      <th>V28</th>\n",
       "      <th>Amount</th>\n",
       "    </tr>\n",
       "    <tr>\n",
       "      <th>Class</th>\n",
       "      <th></th>\n",
       "      <th></th>\n",
       "      <th></th>\n",
       "      <th></th>\n",
       "      <th></th>\n",
       "      <th></th>\n",
       "      <th></th>\n",
       "      <th></th>\n",
       "      <th></th>\n",
       "      <th></th>\n",
       "      <th></th>\n",
       "      <th></th>\n",
       "      <th></th>\n",
       "      <th></th>\n",
       "      <th></th>\n",
       "      <th></th>\n",
       "      <th></th>\n",
       "      <th></th>\n",
       "      <th></th>\n",
       "      <th></th>\n",
       "      <th></th>\n",
       "    </tr>\n",
       "  </thead>\n",
       "  <tbody>\n",
       "    <tr>\n",
       "      <th>0</th>\n",
       "      <td>94838.202258</td>\n",
       "      <td>0.008258</td>\n",
       "      <td>-0.006271</td>\n",
       "      <td>0.012171</td>\n",
       "      <td>-0.007860</td>\n",
       "      <td>0.005453</td>\n",
       "      <td>0.002419</td>\n",
       "      <td>0.009637</td>\n",
       "      <td>-0.000987</td>\n",
       "      <td>0.004467</td>\n",
       "      <td>...</td>\n",
       "      <td>-0.000644</td>\n",
       "      <td>-0.001235</td>\n",
       "      <td>-0.000024</td>\n",
       "      <td>0.000070</td>\n",
       "      <td>0.000182</td>\n",
       "      <td>-0.000072</td>\n",
       "      <td>-0.000089</td>\n",
       "      <td>-0.000295</td>\n",
       "      <td>-0.000131</td>\n",
       "      <td>88.291022</td>\n",
       "    </tr>\n",
       "    <tr>\n",
       "      <th>1</th>\n",
       "      <td>80746.806911</td>\n",
       "      <td>-4.771948</td>\n",
       "      <td>3.623778</td>\n",
       "      <td>-7.033281</td>\n",
       "      <td>4.542029</td>\n",
       "      <td>-3.151225</td>\n",
       "      <td>-1.397737</td>\n",
       "      <td>-5.568731</td>\n",
       "      <td>0.570636</td>\n",
       "      <td>-2.581123</td>\n",
       "      <td>...</td>\n",
       "      <td>0.372319</td>\n",
       "      <td>0.713588</td>\n",
       "      <td>0.014049</td>\n",
       "      <td>-0.040308</td>\n",
       "      <td>-0.105130</td>\n",
       "      <td>0.041449</td>\n",
       "      <td>0.051648</td>\n",
       "      <td>0.170575</td>\n",
       "      <td>0.075667</td>\n",
       "      <td>122.211321</td>\n",
       "    </tr>\n",
       "  </tbody>\n",
       "</table>\n",
       "<p>2 rows × 30 columns</p>\n",
       "</div>"
      ],
      "text/plain": [
       "               Time        V1        V2        V3        V4        V5  \\\n",
       "Class                                                                   \n",
       "0      94838.202258  0.008258 -0.006271  0.012171 -0.007860  0.005453   \n",
       "1      80746.806911 -4.771948  3.623778 -7.033281  4.542029 -3.151225   \n",
       "\n",
       "             V6        V7        V8        V9  ...       V20       V21  \\\n",
       "Class                                          ...                       \n",
       "0      0.002419  0.009637 -0.000987  0.004467  ... -0.000644 -0.001235   \n",
       "1     -1.397737 -5.568731  0.570636 -2.581123  ...  0.372319  0.713588   \n",
       "\n",
       "            V22       V23       V24       V25       V26       V27       V28  \\\n",
       "Class                                                                         \n",
       "0     -0.000024  0.000070  0.000182 -0.000072 -0.000089 -0.000295 -0.000131   \n",
       "1      0.014049 -0.040308 -0.105130  0.041449  0.051648  0.170575  0.075667   \n",
       "\n",
       "           Amount  \n",
       "Class              \n",
       "0       88.291022  \n",
       "1      122.211321  \n",
       "\n",
       "[2 rows x 30 columns]"
      ]
     },
     "execution_count": 10,
     "metadata": {},
     "output_type": "execute_result"
    }
   ],
   "source": [
    "#Comparing both the values\n",
    "df.groupby('Class').mean()"
   ]
  },
  {
   "cell_type": "markdown",
   "id": "616b9517",
   "metadata": {
    "papermill": {
     "duration": 0.005986,
     "end_time": "2025-06-21T11:43:23.858022",
     "exception": false,
     "start_time": "2025-06-21T11:43:23.852036",
     "status": "completed"
    },
    "tags": []
   },
   "source": [
    "# UNDERSAMPLING\n",
    "\n",
    "Building a sample dataset containig similar distribution of Legit Trxn and Fraud Trxn\n",
    "\n",
    "(Since,we have 492 fraud trxn so we need to randomly pick 492 leagit trxn to create a new dataset with even distribution)"
   ]
  },
  {
   "cell_type": "code",
   "execution_count": 11,
   "id": "dd138e60",
   "metadata": {
    "execution": {
     "iopub.execute_input": "2025-06-21T11:43:23.871687Z",
     "iopub.status.busy": "2025-06-21T11:43:23.871362Z",
     "iopub.status.idle": "2025-06-21T11:43:23.885521Z",
     "shell.execute_reply": "2025-06-21T11:43:23.884562Z"
    },
    "papermill": {
     "duration": 0.022905,
     "end_time": "2025-06-21T11:43:23.887077",
     "exception": false,
     "start_time": "2025-06-21T11:43:23.864172",
     "status": "completed"
    },
    "tags": []
   },
   "outputs": [],
   "source": [
    "legit_sample = legit.sample(n=492)"
   ]
  },
  {
   "cell_type": "code",
   "execution_count": 12,
   "id": "cd4ecc5e",
   "metadata": {
    "execution": {
     "iopub.execute_input": "2025-06-21T11:43:23.901080Z",
     "iopub.status.busy": "2025-06-21T11:43:23.900715Z",
     "iopub.status.idle": "2025-06-21T11:43:23.906737Z",
     "shell.execute_reply": "2025-06-21T11:43:23.905759Z"
    },
    "papermill": {
     "duration": 0.01517,
     "end_time": "2025-06-21T11:43:23.908591",
     "exception": false,
     "start_time": "2025-06-21T11:43:23.893421",
     "status": "completed"
    },
    "tags": []
   },
   "outputs": [],
   "source": [
    "df2 = pd.concat([legit_sample,fraud], axis = 0)"
   ]
  },
  {
   "cell_type": "code",
   "execution_count": 13,
   "id": "30f9a8c3",
   "metadata": {
    "execution": {
     "iopub.execute_input": "2025-06-21T11:43:23.922770Z",
     "iopub.status.busy": "2025-06-21T11:43:23.922424Z",
     "iopub.status.idle": "2025-06-21T11:43:23.935873Z",
     "shell.execute_reply": "2025-06-21T11:43:23.934609Z"
    },
    "papermill": {
     "duration": 0.022381,
     "end_time": "2025-06-21T11:43:23.937487",
     "exception": false,
     "start_time": "2025-06-21T11:43:23.915106",
     "status": "completed"
    },
    "tags": []
   },
   "outputs": [
    {
     "name": "stdout",
     "output_type": "stream",
     "text": [
      "<class 'pandas.core.frame.DataFrame'>\n",
      "Index: 984 entries, 140399 to 281674\n",
      "Data columns (total 31 columns):\n",
      " #   Column  Non-Null Count  Dtype  \n",
      "---  ------  --------------  -----  \n",
      " 0   Time    984 non-null    float64\n",
      " 1   V1      984 non-null    float64\n",
      " 2   V2      984 non-null    float64\n",
      " 3   V3      984 non-null    float64\n",
      " 4   V4      984 non-null    float64\n",
      " 5   V5      984 non-null    float64\n",
      " 6   V6      984 non-null    float64\n",
      " 7   V7      984 non-null    float64\n",
      " 8   V8      984 non-null    float64\n",
      " 9   V9      984 non-null    float64\n",
      " 10  V10     984 non-null    float64\n",
      " 11  V11     984 non-null    float64\n",
      " 12  V12     984 non-null    float64\n",
      " 13  V13     984 non-null    float64\n",
      " 14  V14     984 non-null    float64\n",
      " 15  V15     984 non-null    float64\n",
      " 16  V16     984 non-null    float64\n",
      " 17  V17     984 non-null    float64\n",
      " 18  V18     984 non-null    float64\n",
      " 19  V19     984 non-null    float64\n",
      " 20  V20     984 non-null    float64\n",
      " 21  V21     984 non-null    float64\n",
      " 22  V22     984 non-null    float64\n",
      " 23  V23     984 non-null    float64\n",
      " 24  V24     984 non-null    float64\n",
      " 25  V25     984 non-null    float64\n",
      " 26  V26     984 non-null    float64\n",
      " 27  V27     984 non-null    float64\n",
      " 28  V28     984 non-null    float64\n",
      " 29  Amount  984 non-null    float64\n",
      " 30  Class   984 non-null    int64  \n",
      "dtypes: float64(30), int64(1)\n",
      "memory usage: 246.0 KB\n"
     ]
    }
   ],
   "source": [
    "df2.info()"
   ]
  },
  {
   "cell_type": "code",
   "execution_count": 14,
   "id": "9aca7f3e",
   "metadata": {
    "execution": {
     "iopub.execute_input": "2025-06-21T11:43:23.951840Z",
     "iopub.status.busy": "2025-06-21T11:43:23.951425Z",
     "iopub.status.idle": "2025-06-21T11:43:23.959852Z",
     "shell.execute_reply": "2025-06-21T11:43:23.958562Z"
    },
    "papermill": {
     "duration": 0.018045,
     "end_time": "2025-06-21T11:43:23.962044",
     "exception": false,
     "start_time": "2025-06-21T11:43:23.943999",
     "status": "completed"
    },
    "tags": []
   },
   "outputs": [
    {
     "data": {
      "text/plain": [
       "Class\n",
       "0    492\n",
       "1    492\n",
       "Name: count, dtype: int64"
      ]
     },
     "execution_count": 14,
     "metadata": {},
     "output_type": "execute_result"
    }
   ],
   "source": [
    "df2['Class'].value_counts()"
   ]
  },
  {
   "cell_type": "markdown",
   "id": "0328c337",
   "metadata": {
    "papermill": {
     "duration": 0.006224,
     "end_time": "2025-06-21T11:43:23.975110",
     "exception": false,
     "start_time": "2025-06-21T11:43:23.968886",
     "status": "completed"
    },
    "tags": []
   },
   "source": [
    "# VISUALISATION\n"
   ]
  },
  {
   "cell_type": "code",
   "execution_count": 15,
   "id": "3d330997",
   "metadata": {
    "execution": {
     "iopub.execute_input": "2025-06-21T11:43:23.988929Z",
     "iopub.status.busy": "2025-06-21T11:43:23.988562Z",
     "iopub.status.idle": "2025-06-21T11:43:24.824221Z",
     "shell.execute_reply": "2025-06-21T11:43:24.823116Z"
    },
    "papermill": {
     "duration": 0.845012,
     "end_time": "2025-06-21T11:43:24.826300",
     "exception": false,
     "start_time": "2025-06-21T11:43:23.981288",
     "status": "completed"
    },
    "tags": []
   },
   "outputs": [
    {
     "data": {
      "image/png": "[encoded data removed]",
      "text/plain": [
       "<Figure size 640x480 with 1 Axes>"
      ]
     },
     "metadata": {},
     "output_type": "display_data"
    }
   ],
   "source": [
    "sns.scatterplot(df, x='Class', y = 'Amount')\n",
    "plt.show()"
   ]
  },
  {
   "cell_type": "code",
   "execution_count": 16,
   "id": "65c8af43",
   "metadata": {
    "execution": {
     "iopub.execute_input": "2025-06-21T11:43:24.841835Z",
     "iopub.status.busy": "2025-06-21T11:43:24.841416Z",
     "iopub.status.idle": "2025-06-21T11:43:25.022029Z",
     "shell.execute_reply": "2025-06-21T11:43:25.021053Z"
    },
    "papermill": {
     "duration": 0.189974,
     "end_time": "2025-06-21T11:43:25.023613",
     "exception": false,
     "start_time": "2025-06-21T11:43:24.833639",
     "status": "completed"
    },
    "tags": []
   },
   "outputs": [
    {
     "data": {
      "text/plain": [
       "<function matplotlib.pyplot.show(close=None, block=None)>"
      ]
     },
     "execution_count": 16,
     "metadata": {},
     "output_type": "execute_result"
    },
    {
     "data": {
      "image/png": "[encoded data removed]",
      "text/plain": [
       "<Figure size 640x480 with 1 Axes>"
      ]
     },
     "metadata": {},
     "output_type": "display_data"
    }
   ],
   "source": [
    "sns.countplot(df, x = 'Class')\n",
    "plt.title('Class v/s Count')\n",
    "plt.show\n"
   ]
  },
  {
   "cell_type": "markdown",
   "id": "0486004d",
   "metadata": {
    "papermill": {
     "duration": 0.007128,
     "end_time": "2025-06-21T11:43:25.038290",
     "exception": false,
     "start_time": "2025-06-21T11:43:25.031162",
     "status": "completed"
    },
    "tags": []
   },
   "source": [
    "# INITIALIZING THE MODEL"
   ]
  },
  {
   "cell_type": "code",
   "execution_count": 17,
   "id": "1d7db4a8",
   "metadata": {
    "execution": {
     "iopub.execute_input": "2025-06-21T11:43:25.054729Z",
     "iopub.status.busy": "2025-06-21T11:43:25.054385Z",
     "iopub.status.idle": "2025-06-21T11:43:25.060408Z",
     "shell.execute_reply": "2025-06-21T11:43:25.059388Z"
    },
    "papermill": {
     "duration": 0.016498,
     "end_time": "2025-06-21T11:43:25.062074",
     "exception": false,
     "start_time": "2025-06-21T11:43:25.045576",
     "status": "completed"
    },
    "tags": []
   },
   "outputs": [],
   "source": [
    "X = df2.drop(columns = ['Class'])\n",
    "Y = df2['Class']"
   ]
  },
  {
   "cell_type": "code",
   "execution_count": 18,
   "id": "4ae97a18",
   "metadata": {
    "execution": {
     "iopub.execute_input": "2025-06-21T11:43:25.078741Z",
     "iopub.status.busy": "2025-06-21T11:43:25.078335Z",
     "iopub.status.idle": "2025-06-21T11:43:25.102438Z",
     "shell.execute_reply": "2025-06-21T11:43:25.101505Z"
    },
    "papermill": {
     "duration": 0.034212,
     "end_time": "2025-06-21T11:43:25.104180",
     "exception": false,
     "start_time": "2025-06-21T11:43:25.069968",
     "status": "completed"
    },
    "tags": []
   },
   "outputs": [],
   "source": [
    "scaler = StandardScaler()\n",
    "X = scaler.fit_transform(X)"
   ]
  },
  {
   "cell_type": "code",
   "execution_count": 19,
   "id": "6a127af9",
   "metadata": {
    "execution": {
     "iopub.execute_input": "2025-06-21T11:43:25.120200Z",
     "iopub.status.busy": "2025-06-21T11:43:25.119849Z",
     "iopub.status.idle": "2025-06-21T11:43:25.127535Z",
     "shell.execute_reply": "2025-06-21T11:43:25.126566Z"
    },
    "papermill": {
     "duration": 0.017768,
     "end_time": "2025-06-21T11:43:25.129215",
     "exception": false,
     "start_time": "2025-06-21T11:43:25.111447",
     "status": "completed"
    },
    "tags": []
   },
   "outputs": [],
   "source": [
    "X_train, X_test, Y_train, Y_test = train_test_split(X,Y, train_size = 0.4, random_state = 32, shuffle = True)"
   ]
  },
  {
   "cell_type": "code",
   "execution_count": 20,
   "id": "014e8dcb",
   "metadata": {
    "execution": {
     "iopub.execute_input": "2025-06-21T11:43:25.144860Z",
     "iopub.status.busy": "2025-06-21T11:43:25.144490Z",
     "iopub.status.idle": "2025-06-21T11:43:25.149533Z",
     "shell.execute_reply": "2025-06-21T11:43:25.148331Z"
    },
    "papermill": {
     "duration": 0.014802,
     "end_time": "2025-06-21T11:43:25.151261",
     "exception": false,
     "start_time": "2025-06-21T11:43:25.136459",
     "status": "completed"
    },
    "tags": []
   },
   "outputs": [],
   "source": [
    " model = LR(class_weight='balanced', max_iter=1000)"
   ]
  },
  {
   "cell_type": "code",
   "execution_count": 21,
   "id": "22f5fddd",
   "metadata": {
    "execution": {
     "iopub.execute_input": "2025-06-21T11:43:25.167145Z",
     "iopub.status.busy": "2025-06-21T11:43:25.166760Z",
     "iopub.status.idle": "2025-06-21T11:43:25.332196Z",
     "shell.execute_reply": "2025-06-21T11:43:25.331190Z"
    },
    "papermill": {
     "duration": 0.17586,
     "end_time": "2025-06-21T11:43:25.334553",
     "exception": false,
     "start_time": "2025-06-21T11:43:25.158693",
     "status": "completed"
    },
    "tags": []
   },
   "outputs": [
    {
     "data": {
      "text/html": [
       "<style>#sk-container-id-1 {color: black;background-color: white;}#sk-container-id-1 pre{padding: 0;}#sk-container-id-1 div.sk-toggleable {background-color: white;}#sk-container-id-1 label.sk-toggleable__label {cursor: pointer;display: block;width: 100%;margin-bottom: 0;padding: 0.3em;box-sizing: border-box;text-align: center;}#sk-container-id-1 label.sk-toggleable__label-arrow:before {content: \"▸\";float: left;margin-right: 0.25em;color: #696969;}#sk-container-id-1 label.sk-toggleable__label-arrow:hover:before {color: black;}#sk-container-id-1 div.sk-estimator:hover label.sk-toggleable__label-arrow:before {color: black;}#sk-container-id-1 div.sk-toggleable__content {max-height: 0;max-width: 0;overflow: hidden;text-align: left;background-color: #f0f8ff;}#sk-container-id-1 div.sk-toggleable__content pre {margin: 0.2em;color: black;border-radius: 0.25em;background-color: #f0f8ff;}#sk-container-id-1 input.sk-toggleable__control:checked~div.sk-toggleable__content {max-height: 200px;max-width: 100%;overflow: auto;}#sk-container-id-1 input.sk-toggleable__control:checked~label.sk-toggleable__label-arrow:before {content: \"▾\";}#sk-container-id-1 div.sk-estimator input.sk-toggleable__control:checked~label.sk-toggleable__label {background-color: #d4ebff;}#sk-container-id-1 div.sk-label input.sk-toggleable__control:checked~label.sk-toggleable__label {background-color: #d4ebff;}#sk-container-id-1 input.sk-hidden--visually {border: 0;clip: rect(1px 1px 1px 1px);clip: rect(1px, 1px, 1px, 1px);height: 1px;margin: -1px;overflow: hidden;padding: 0;position: absolute;width: 1px;}#sk-container-id-1 div.sk-estimator {font-family: monospace;background-color: #f0f8ff;border: 1px dotted black;border-radius: 0.25em;box-sizing: border-box;margin-bottom: 0.5em;}#sk-container-id-1 div.sk-estimator:hover {background-color: #d4ebff;}#sk-container-id-1 div.sk-parallel-item::after {content: \"\";width: 100%;border-bottom: 1px solid gray;flex-grow: 1;}#sk-container-id-1 div.sk-label:hover label.sk-toggleable__label {background-color: #d4ebff;}#sk-container-id-1 div.sk-serial::before {content: \"\";position: absolute;border-left: 1px solid gray;box-sizing: border-box;top: 0;bottom: 0;left: 50%;z-index: 0;}#sk-container-id-1 div.sk-serial {display: flex;flex-direction: column;align-items: center;background-color: white;padding-right: 0.2em;padding-left: 0.2em;position: relative;}#sk-container-id-1 div.sk-item {position: relative;z-index: 1;}#sk-container-id-1 div.sk-parallel {display: flex;align-items: stretch;justify-content: center;background-color: white;position: relative;}#sk-container-id-1 div.sk-item::before, #sk-container-id-1 div.sk-parallel-item::before {content: \"\";position: absolute;border-left: 1px solid gray;box-sizing: border-box;top: 0;bottom: 0;left: 50%;z-index: -1;}#sk-container-id-1 div.sk-parallel-item {display: flex;flex-direction: column;z-index: 1;position: relative;background-color: white;}#sk-container-id-1 div.sk-parallel-item:first-child::after {align-self: flex-end;width: 50%;}#sk-container-id-1 div.sk-parallel-item:last-child::after {align-self: flex-start;width: 50%;}#sk-container-id-1 div.sk-parallel-item:only-child::after {width: 0;}#sk-container-id-1 div.sk-dashed-wrapped {border: 1px dashed gray;margin: 0 0.4em 0.5em 0.4em;box-sizing: border-box;padding-bottom: 0.4em;background-color: white;}#sk-container-id-1 div.sk-label label {font-family: monospace;font-weight: bold;display: inline-block;line-height: 1.2em;}#sk-container-id-1 div.sk-label-container {text-align: center;}#sk-container-id-1 div.sk-container {/* jupyter's `normalize.less` sets `[hidden] { display: none; }` but bootstrap.min.css set `[hidden] { display: none !important; }` so we also need the `!important` here to be able to override the default hidden behavior on the sphinx rendered scikit-learn.org. See: https://github.com/scikit-learn/scikit-learn/issues/21755 */display: inline-block !important;position: relative;}#sk-container-id-1 div.sk-text-repr-fallback {display: none;}</style><div id=\"sk-container-id-1\" class=\"sk-top-container\"><div class=\"sk-text-repr-fallback\"><pre>LogisticRegression(class_weight=&#x27;balanced&#x27;, max_iter=1000)</pre><b>In a Jupyter environment, please rerun this cell to show the HTML representation or trust the notebook. <br />On GitHub, the HTML representation is unable to render, please try loading this page with nbviewer.org.</b></div><div class=\"sk-container\" hidden><div class=\"sk-item\"><div class=\"sk-estimator sk-toggleable\"><input class=\"sk-toggleable__control sk-hidden--visually\" id=\"sk-estimator-id-1\" type=\"checkbox\" checked><label for=\"sk-estimator-id-1\" class=\"sk-toggleable__label sk-toggleable__label-arrow\">LogisticRegression</label><div class=\"sk-toggleable__content\"><pre>LogisticRegression(class_weight=&#x27;balanced&#x27;, max_iter=1000)</pre></div></div></div></div></div>"
      ],
      "text/plain": [
       "LogisticRegression(class_weight='balanced', max_iter=1000)"
      ]
     },
     "execution_count": 21,
     "metadata": {},
     "output_type": "execute_result"
    }
   ],
   "source": [
    "model.fit(X_train, Y_train)"
   ]
  },
  {
   "cell_type": "markdown",
   "id": "72933518",
   "metadata": {
    "papermill": {
     "duration": 0.012213,
     "end_time": "2025-06-21T11:43:25.361240",
     "exception": false,
     "start_time": "2025-06-21T11:43:25.349027",
     "status": "completed"
    },
    "tags": []
   },
   "source": [
    "# EVALUATION"
   ]
  },
  {
   "cell_type": "code",
   "execution_count": 22,
   "id": "27ba1023",
   "metadata": {
    "execution": {
     "iopub.execute_input": "2025-06-21T11:43:25.387338Z",
     "iopub.status.busy": "2025-06-21T11:43:25.386999Z",
     "iopub.status.idle": "2025-06-21T11:43:25.395213Z",
     "shell.execute_reply": "2025-06-21T11:43:25.394482Z"
    },
    "papermill": {
     "duration": 0.025293,
     "end_time": "2025-06-21T11:43:25.398884",
     "exception": false,
     "start_time": "2025-06-21T11:43:25.373591",
     "status": "completed"
    },
    "tags": []
   },
   "outputs": [],
   "source": [
    "Y_pred = model.predict(X_test)"
   ]
  },
  {
   "cell_type": "code",
   "execution_count": 23,
   "id": "4960c40a",
   "metadata": {
    "execution": {
     "iopub.execute_input": "2025-06-21T11:43:25.436056Z",
     "iopub.status.busy": "2025-06-21T11:43:25.435572Z",
     "iopub.status.idle": "2025-06-21T11:43:25.444642Z",
     "shell.execute_reply": "2025-06-21T11:43:25.443876Z"
    },
    "papermill": {
     "duration": 0.019979,
     "end_time": "2025-06-21T11:43:25.446098",
     "exception": false,
     "start_time": "2025-06-21T11:43:25.426119",
     "status": "completed"
    },
    "tags": []
   },
   "outputs": [
    {
     "data": {
      "text/plain": [
       "0.9761092150170648"
      ]
     },
     "execution_count": 23,
     "metadata": {},
     "output_type": "execute_result"
    }
   ],
   "source": [
    "precision = precision_score(Y_test, Y_pred)\n",
    "precision\n",
    "\n"
   ]
  },
  {
   "cell_type": "code",
   "execution_count": 24,
   "id": "159e1c40",
   "metadata": {
    "execution": {
     "iopub.execute_input": "2025-06-21T11:43:25.462937Z",
     "iopub.status.busy": "2025-06-21T11:43:25.461918Z",
     "iopub.status.idle": "2025-06-21T11:43:25.471483Z",
     "shell.execute_reply": "2025-06-21T11:43:25.470527Z"
    },
    "papermill": {
     "duration": 0.019519,
     "end_time": "2025-06-21T11:43:25.473145",
     "exception": false,
     "start_time": "2025-06-21T11:43:25.453626",
     "status": "completed"
    },
    "tags": []
   },
   "outputs": [
    {
     "data": {
      "text/plain": [
       "0.9166666666666666"
      ]
     },
     "execution_count": 24,
     "metadata": {},
     "output_type": "execute_result"
    }
   ],
   "source": [
    "recall = recall_score(Y_test, Y_pred)\n",
    "recall"
   ]
  },
  {
   "cell_type": "code",
   "execution_count": 25,
   "id": "3660729c",
   "metadata": {
    "execution": {
     "iopub.execute_input": "2025-06-21T11:43:25.489885Z",
     "iopub.status.busy": "2025-06-21T11:43:25.489491Z",
     "iopub.status.idle": "2025-06-21T11:43:25.500381Z",
     "shell.execute_reply": "2025-06-21T11:43:25.499237Z"
    },
    "papermill": {
     "duration": 0.021383,
     "end_time": "2025-06-21T11:43:25.502207",
     "exception": false,
     "start_time": "2025-06-21T11:43:25.480824",
     "status": "completed"
    },
    "tags": []
   },
   "outputs": [
    {
     "data": {
      "text/plain": [
       "0.9166666666666666"
      ]
     },
     "execution_count": 25,
     "metadata": {},
     "output_type": "execute_result"
    }
   ],
   "source": [
    "f1 = f1_score(Y_test, Y_pred)\n",
    "recall"
   ]
  },
  {
   "cell_type": "code",
   "execution_count": 26,
   "id": "ff1750ac",
   "metadata": {
    "execution": {
     "iopub.execute_input": "2025-06-21T11:43:25.519114Z",
     "iopub.status.busy": "2025-06-21T11:43:25.518781Z",
     "iopub.status.idle": "2025-06-21T11:43:25.722494Z",
     "shell.execute_reply": "2025-06-21T11:43:25.721565Z"
    },
    "papermill": {
     "duration": 0.213683,
     "end_time": "2025-06-21T11:43:25.723888",
     "exception": false,
     "start_time": "2025-06-21T11:43:25.510205",
     "status": "completed"
    },
    "tags": []
   },
   "outputs": [
    {
     "data": {
      "text/plain": [
       "<sklearn.metrics._plot.confusion_matrix.ConfusionMatrixDisplay at 0x7d28e543a3d0>"
      ]
     },
     "execution_count": 26,
     "metadata": {},
     "output_type": "execute_result"
    },
    {
     "data": {
      "image/png": "[encoded data removed]",
      "text/plain": [
       "<Figure size 640x480 with 2 Axes>"
      ]
     },
     "metadata": {},
     "output_type": "display_data"
    }
   ],
   "source": [
    "CM = confusion_matrix(Y_test, Y_pred)\n",
    "matrix = ConfusionMatrixDisplay(confusion_matrix=CM)\n",
    "matrix.plot()"
   ]
  }
 ],
 "metadata": {
  "kaggle": {
   "accelerator": "none",
   "dataSources": [
    {
     "datasetId": 310,
     "sourceId": 23498,
     "sourceType": "datasetVersion"
    }
   ],
   "dockerImageVersionId": 31040,
   "isGpuEnabled": false,
   "isInternetEnabled": true,
   "language": "python",
   "sourceType": "notebook"
  },
  "kernelspec": {
   "display_name": "Python 3",
   "language": "python",
   "name": "python3"
  },
  "language_info": {
   "codemirror_mode": {
    "name": "ipython",
    "version": 3
   },
   "file_extension": ".py",
   "mimetype": "text/x-python",
   "name": "python",
   "nbconvert_exporter": "python",
   "pygments_lexer": "ipython3",
   "version": "3.11.11"
  },
  "papermill": {
   "default_parameters": {},
   "duration": 16.936093,
   "end_time": "2025-06-21T11:43:26.453139",
   "environment_variables": {},
   "exception": null,
   "input_path": "__notebook__.ipynb",
   "output_path": "__notebook__.ipynb",
   "parameters": {},
   "start_time": "2025-06-21T11:43:09.517046",
   "version": "2.6.0"
  }
 },
 "nbformat": 4,
 "nbformat_minor": 5
}
